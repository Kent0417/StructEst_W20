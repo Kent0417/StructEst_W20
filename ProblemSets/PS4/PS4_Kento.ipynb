{
 "cells": [
  {
   "cell_type": "markdown",
   "metadata": {},
   "source": [
    "# Problem Set #4\n",
    "- MACS 40200, Dr. Evans \n",
    "- Name: Kento Yoshizawa (CNET: kyoshizawa) \n",
    "- Date: February 17, 2020"
   ]
  },
  {
   "cell_type": "code",
   "execution_count": 1,
   "metadata": {},
   "outputs": [],
   "source": [
    "import numpy as np\n",
    "import matplotlib.pyplot as plt\n",
    "import scipy.integrate as intgr\n",
    "import scipy.optimize as opt\n",
    "import scipy.stats as sts\n",
    "#from scipy import stats, special\n",
    "%matplotlib inline\n",
    "%config InlineBackend.figure_formats = {'png', 'retina'}"
   ]
  },
  {
   "cell_type": "code",
   "execution_count": 17,
   "metadata": {},
   "outputs": [
    {
     "data": {
      "text/plain": [
       "(100, 5)"
      ]
     },
     "execution_count": 17,
     "metadata": {},
     "output_type": "execute_result"
    }
   ],
   "source": [
    "macro = np.loadtxt('data/NewMacroSeries.txt', delimiter=',', dtype = 'float128')\n",
    "macro.shape"
   ]
  },
  {
   "cell_type": "markdown",
   "metadata": {},
   "source": [
    "## (a)"
   ]
  },
  {
   "cell_type": "code",
   "execution_count": 3,
   "metadata": {},
   "outputs": [],
   "source": [
    "def BM_simulation(unif_vals, params, k1):\n",
    "    T, S = unif_vals.shape\n",
    "    \n",
    "    alpha, rho, mu, sig = params\n",
    "    beta = 0.99\n",
    "    \n",
    "    eps = sts.norm.ppf(unif_vals, loc = 0, scale = sig)\n",
    "    \n",
    "    zt = np.zeros_like(unif_vals)\n",
    "    for s in range(S):\n",
    "        zvec = np.zeros(T + 1)\n",
    "        zvec[0] = mu\n",
    "        for t in range(T):\n",
    "            z = rho * zvec[t] + (1 - rho) * mu + eps[t,s]\n",
    "            zvec[t+1] = z\n",
    "        zt[:,s] = zvec[1:]\n",
    "    \n",
    "    kt = np.zeros((T + 1, S))\n",
    "    for s in range(S):\n",
    "        kvec = np.zeros(T + 1)\n",
    "        kvec[0] = k1\n",
    "        for t in range(T):\n",
    "            k = alpha * beta * np.exp(zt[t,s]) * kvec[t]**alpha\n",
    "            kvec[t + 1] = k\n",
    "        kt[:,s] = kvec\n",
    "    \n",
    "    wt = (1 - alpha) * np.exp(zt) * kt[:-1] ** alpha\n",
    "    \n",
    "    rt = alpha * np.exp(zt) * kt[:-1] ** (alpha - 1)\n",
    "    \n",
    "    ct = wt + rt * kt[:-1] - kt[1:]\n",
    "    \n",
    "    yt = np.exp(zt) * kt[:-1] ** alpha\n",
    "    \n",
    "    return np.array([ct, kt[:-1], wt, rt, yt])"
   ]
  },
  {
   "cell_type": "code",
   "execution_count": 4,
   "metadata": {},
   "outputs": [],
   "source": [
    "def data_moments(data):\n",
    "    if data.ndim == 2:\n",
    "        ct, kt, yt = data[:,0], data[:,1], data[:,4]\n",
    "        mom1 = ct.mean()\n",
    "        mom2 = kt.mean()\n",
    "        mom3 = (ct/yt).mean()\n",
    "        mom4 = yt.var()\n",
    "        mom5 = np.corrcoef(ct[:-1], ct[1:])[0,1]\n",
    "        mom6 = np.corrcoef(ct, kt)[0,1]\n",
    "        \n",
    "    elif data.ndim == 3:\n",
    "        ct, kt, yt = data[0], data[1], data[4]\n",
    "        mom1 = ct.mean(axis = 0)\n",
    "        mom2 = kt.mean(axis = 0)\n",
    "        mom3 = (ct/yt).mean(axis = 0)\n",
    "        mom4 = yt.var(axis = 0)\n",
    "        mom5 = np.zeros(ct.shape[1])\n",
    "        mom6 = np.zeros(ct.shape[1])\n",
    "        for s in range(ct.shape[1]):\n",
    "            mom5[s] = np.corrcoef(ct[:-1,s], ct[1:,s])[0,1]\n",
    "            mom6[s] = np.corrcoef(ct[:,s], kt[:,s])[0,1]\n",
    "      \n",
    "    return np.array([mom1, mom2, mom3, mom4, mom5, mom6])"
   ]
  },
  {
   "cell_type": "code",
   "execution_count": 5,
   "metadata": {},
   "outputs": [],
   "source": [
    "def err_vec(data, unif_vals, params, simple):\n",
    "    k1 = data[:,1].mean()\n",
    "    sim_data = BM_simulation(unif_vals, params, k1)\n",
    "    sim_moms  = np.array([sm.mean() for sm in data_moments(sim_data)])\n",
    "    data_moms = data_moments(data)\n",
    "    \n",
    "    if simple:\n",
    "        err_vec = sim_moms - data_moms\n",
    "    else:\n",
    "        err_vec = (sim_moms - data_moms)/data_moms\n",
    "    \n",
    "    return err_vec"
   ]
  },
  {
   "cell_type": "code",
   "execution_count": 6,
   "metadata": {},
   "outputs": [],
   "source": [
    "def criterion(params, *args):\n",
    "    data, unif_vals, W_hat = args\n",
    "    \n",
    "    err = err_vec(data, unif_vals, params, simple=False)\n",
    "    crit_val = err.T @ W_hat @ err \n",
    "    \n",
    "    return crit_val"
   ]
  },
  {
   "cell_type": "code",
   "execution_count": 19,
   "metadata": {},
   "outputs": [],
   "source": [
    "## Define random drawing\n",
    "T = 100\n",
    "S = 1000\n",
    "unif_vals = sts.uniform.rvs(0, 1, size = (T, S))"
   ]
  },
  {
   "cell_type": "code",
   "execution_count": 20,
   "metadata": {},
   "outputs": [
    {
     "name": "stdout",
     "output_type": "stream",
     "text": [
      "CPU times: user 3min 4s, sys: 905 ms, total: 3min 5s\n",
      "Wall time: 3min 6s\n"
     ]
    },
    {
     "data": {
      "text/plain": [
       "      fun: 4.1587535017625606066e-06\n",
       " hess_inv: <4x4 LbfgsInvHessProduct with dtype=float64>\n",
       "      jac: array([-4.83461662e-06, -3.64053806e-06, -2.66385671e-07, -8.00770473e-06])\n",
       "  message: b'CONVERGENCE: REL_REDUCTION_OF_F_<=_FACTR*EPSMCH'\n",
       "     nfev: 475\n",
       "      nit: 54\n",
       "   status: 0\n",
       "  success: True\n",
       "        x: array([0.42100674, 0.92092418, 9.92846415, 0.0887103 ])"
      ]
     },
     "execution_count": 20,
     "metadata": {},
     "output_type": "execute_result"
    }
   ],
   "source": [
    "## Initial guess\n",
    "alpha_init = 0.5 \n",
    "rho_init   = 1.0\n",
    "mu_init    = 10.0\n",
    "sigma_init = 0.5\n",
    "params_init = np.array([alpha_init, rho_init, mu_init, sigma_init])\n",
    "\n",
    "## Weighting matrix\n",
    "W_hat = np.eye(6)\n",
    "## SMM arguments\n",
    "smm_args1 = (macro, unif_vals, W_hat)\n",
    "\n",
    "## bounds\n",
    "bounds = ((0.01, 0.99), (-0.99, 0.99), (5, 14), (0.01, 1.1))\n",
    "\n",
    "\n",
    "%time results1 = opt.minimize(criterion, params_init, args = (smm_args1), \\\n",
    "                              method = 'L-BFGS-B', bounds = bounds, tol = 1e-14)\n",
    "results1"
   ]
  },
  {
   "cell_type": "code",
   "execution_count": 21,
   "metadata": {},
   "outputs": [
    {
     "name": "stdout",
     "output_type": "stream",
     "text": [
      "Estimated values using SMM with the Identity matrix\n",
      "     - alpha: 0.4210 \n",
      "     - rho  : 0.9209 \n",
      "     - mu   : 9.9285 \n",
      "     - sigma: 0.0887\n",
      "\n",
      "The vector of moment difference at the optimum:\n",
      " [ 6.64378394e+03 -4.79954634e+03 -9.96676021e-04 -8.72471552e+06\n",
      "  3.09624593e-04 -3.05684656e-04]\n",
      "\n",
      "The value of the minimized criterion function: 4.1587535017625606e-06\n"
     ]
    }
   ],
   "source": [
    "print('Estimated values using SMM with the Identity matrix\\n \\\n",
    "    - alpha: {0:.4f} \\n \\\n",
    "    - rho  : {1:.4f} \\n \\\n",
    "    - mu   : {2:.4f} \\n \\\n",
    "    - sigma: {3:.4f}'.format(*results1.x))\n",
    "print('\\nThe vector of moment difference at the optimum:\\n', err_vec(macro, unif_vals, results1.x, True))\n",
    "print('\\nThe value of the minimized criterion function: {}'.format(results1.fun))"
   ]
  },
  {
   "cell_type": "code",
   "execution_count": 22,
   "metadata": {},
   "outputs": [],
   "source": [
    "def Jac_err6(data, unif_vals, params, simple=False):\n",
    "    \n",
    "    h = 1e-4\n",
    "    K = len(params)\n",
    "    R = 6\n",
    "    \n",
    "    Jac_err = np.zeros((R, K))\n",
    "    I = np.eye(K)\n",
    "    \n",
    "    for k in range(K):\n",
    "        e = I[k]\n",
    "        ub = params + h * e\n",
    "        lb = params - h * e\n",
    "        \n",
    "        Jac_err[:, k] = ((err_vec(data, unif_vals, ub, simple) - \n",
    "                          err_vec(data, unif_vals, lb, simple)) / (2 * h)).flatten()\n",
    "        \n",
    "    return Jac_err"
   ]
  },
  {
   "cell_type": "code",
   "execution_count": 23,
   "metadata": {},
   "outputs": [
    {
     "name": "stdout",
     "output_type": "stream",
     "text": [
      "Std.errors for the estimated parameters\n",
      "     - alpha: 0.0095\n",
      "     - rho  : 0.0474\n",
      "     - mu   : 0.1604\n",
      "     - sigma: 0.0208\n"
     ]
    }
   ],
   "source": [
    "d_err6_1 = Jac_err6(macro, unif_vals, results1.x)\n",
    "SigHat1 = (1/S) * np.linalg.inv(d_err6_1.T @ W_hat @ d_err6_1)\n",
    "std1 = np.sqrt(np.diag(SigHat1))\n",
    "print('Std.errors for the estimated parameters\\n \\\n",
    "    - alpha: {0:.4f}\\n \\\n",
    "    - rho  : {1:.4f}\\n \\\n",
    "    - mu   : {2:.4f}\\n \\\n",
    "    - sigma: {3:.4f}'.format(*std1))"
   ]
  },
  {
   "cell_type": "markdown",
   "metadata": {},
   "source": [
    "## (b)"
   ]
  },
  {
   "cell_type": "code",
   "execution_count": 24,
   "metadata": {},
   "outputs": [],
   "source": [
    "k1 = macro[:,1].mean()\n",
    "sim_data_opt = BM_simulation(unif_vals, results1.x, k1)"
   ]
  },
  {
   "cell_type": "code",
   "execution_count": 25,
   "metadata": {},
   "outputs": [],
   "source": [
    "def get_Err_mat(data, unif_vals, params, simple):\n",
    "    R = 6\n",
    "    S = unif_vals.shape[1]\n",
    "    \n",
    "    k1 = data[:,1].mean()\n",
    "    sim_data  = BM_simulation(unif_vals, params, k1)\n",
    "    sim_moms  = data_moments(sim_data)\n",
    "    data_moms = data_moments(data)\n",
    "    \n",
    "    Err_mat = np.zeros((R, S))\n",
    "    \n",
    "    for r in range(R):\n",
    "        if simple:\n",
    "            Err_mat[r] = sim_moms[r] - data_moms[r]\n",
    "        else:\n",
    "            Err_mat[r] = (sim_moms[r] - data_moms[r])/data_moms[r]\n",
    "    \n",
    "    return Err_mat"
   ]
  },
  {
   "cell_type": "code",
   "execution_count": 26,
   "metadata": {},
   "outputs": [],
   "source": [
    "Err_mat = get_Err_mat(macro, unif_vals, results1.x, False)\n",
    "VCV = (1 / S) * (Err_mat @ Err_mat.T)\n",
    "W_hat2 = np.linalg.inv(VCV)"
   ]
  },
  {
   "cell_type": "code",
   "execution_count": 27,
   "metadata": {},
   "outputs": [
    {
     "name": "stdout",
     "output_type": "stream",
     "text": [
      "CPU times: user 1min 22s, sys: 518 ms, total: 1min 23s\n",
      "Wall time: 1min 23s\n"
     ]
    },
    {
     "data": {
      "text/plain": [
       "      fun: 0.7036447731927209488\n",
       " hess_inv: <4x4 LbfgsInvHessProduct with dtype=float64>\n",
       "      jac: array([7.52745739e-05, 9.29317929e-06, 5.52392875e-06, 1.53045003e-05])\n",
       "  message: b'CONVERGENCE: REL_REDUCTION_OF_F_<=_FACTR*EPSMCH'\n",
       "     nfev: 205\n",
       "      nit: 34\n",
       "   status: 0\n",
       "  success: True\n",
       "        x: array([0.42070787, 0.92255142, 9.93085939, 0.08758171])"
      ]
     },
     "execution_count": 27,
     "metadata": {},
     "output_type": "execute_result"
    }
   ],
   "source": [
    "## SMM arguments\n",
    "smm_args2 = (macro, unif_vals, W_hat2)\n",
    "\n",
    "%time results2 = opt.minimize(criterion, results1.x, args=(smm_args2), \\\n",
    "                                method='L-BFGS-B', bounds= bounds)\n",
    "results2"
   ]
  },
  {
   "cell_type": "code",
   "execution_count": 29,
   "metadata": {},
   "outputs": [
    {
     "name": "stdout",
     "output_type": "stream",
     "text": [
      "Estimated values using SMM with the Identity matrix\n",
      "     - alpha: 0.4207 \n",
      "     - rho  : 0.9226 \n",
      "     - mu   : 9.9309 \n",
      "     - sigma: 0.0876\n",
      "\n",
      "The vector of moment differences at the optimum:\n",
      " [-3.29128836e+04 -4.07536113e+04 -7.00793714e-04 -5.89233346e+11\n",
      "  1.02625470e-03  3.97361220e-04]\n",
      "\n",
      "The value of the minimized criterion function: 0.7036447731927209\n"
     ]
    }
   ],
   "source": [
    "print('Estimated values using SMM with the Identity matrix\\n \\\n",
    "    - alpha: {0:.4f} \\n \\\n",
    "    - rho  : {1:.4f} \\n \\\n",
    "    - mu   : {2:.4f} \\n \\\n",
    "    - sigma: {3:.4f}'.format(*results2.x))\n",
    "print('\\nThe vector of moment differences at the optimum:\\n', err_vec(macro, unif_vals, results2.x, True))\n",
    "print('\\nThe value of the minimized criterion function: {}'.format(results2.fun))"
   ]
  },
  {
   "cell_type": "code",
   "execution_count": 30,
   "metadata": {},
   "outputs": [
    {
     "name": "stdout",
     "output_type": "stream",
     "text": [
      "Std.errors for the estimated parameters\n",
      "     - alpha: 0.00002\n",
      "     - rho  : 0.00198\n",
      "     - mu   : 0.00297\n",
      "     - sigma: 0.00070\n"
     ]
    }
   ],
   "source": [
    "d_err6_2 = Jac_err6(macro, unif_vals, results2.x)\n",
    "SigHat2 = (1/S) * np.linalg.inv(d_err6_2.T @ W_hat2 @ d_err6_2)\n",
    "std2 = np.sqrt(np.diag(SigHat2))\n",
    "print('Std.errors for the estimated parameters\\n \\\n",
    "    - alpha: {0:.5f}\\n \\\n",
    "    - rho  : {1:.5f}\\n \\\n",
    "    - mu   : {2:.5f}\\n \\\n",
    "    - sigma: {3:.5f}'.format(*std2))"
   ]
  },
  {
   "cell_type": "markdown",
   "metadata": {},
   "source": [
    "---"
   ]
  },
  {
   "cell_type": "code",
   "execution_count": 37,
   "metadata": {},
   "outputs": [
    {
     "data": {
      "text/html": [
       "<div>\n",
       "<style scoped>\n",
       "    .dataframe tbody tr th:only-of-type {\n",
       "        vertical-align: middle;\n",
       "    }\n",
       "\n",
       "    .dataframe tbody tr th {\n",
       "        vertical-align: top;\n",
       "    }\n",
       "\n",
       "    .dataframe thead th {\n",
       "        text-align: right;\n",
       "    }\n",
       "</style>\n",
       "<table border=\"1\" class=\"dataframe\">\n",
       "  <thead>\n",
       "    <tr style=\"text-align: right;\">\n",
       "      <th></th>\n",
       "      <th>$\\alpha$</th>\n",
       "      <th>$\\rho$</th>\n",
       "      <th>$\\mu$</th>\n",
       "      <th>$\\sigma$</th>\n",
       "    </tr>\n",
       "  </thead>\n",
       "  <tbody>\n",
       "    <tr>\n",
       "      <th>Estimators with Identity matrix</th>\n",
       "      <td>0.421007</td>\n",
       "      <td>0.920924</td>\n",
       "      <td>9.928464</td>\n",
       "      <td>0.088710</td>\n",
       "    </tr>\n",
       "    <tr>\n",
       "      <th>(Std.Err)</th>\n",
       "      <td>0.009499</td>\n",
       "      <td>0.047431</td>\n",
       "      <td>0.160386</td>\n",
       "      <td>0.020755</td>\n",
       "    </tr>\n",
       "    <tr>\n",
       "      <th>Estimators with Two-step matrix</th>\n",
       "      <td>0.420708</td>\n",
       "      <td>0.922551</td>\n",
       "      <td>9.930859</td>\n",
       "      <td>0.087582</td>\n",
       "    </tr>\n",
       "    <tr>\n",
       "      <th>(Std.Err)</th>\n",
       "      <td>0.000017</td>\n",
       "      <td>0.001978</td>\n",
       "      <td>0.002971</td>\n",
       "      <td>0.000698</td>\n",
       "    </tr>\n",
       "  </tbody>\n",
       "</table>\n",
       "</div>"
      ],
      "text/plain": [
       "                                 $\\alpha$    $\\rho$     $\\mu$  $\\sigma$\n",
       "Estimators with Identity matrix  0.421007  0.920924  9.928464  0.088710\n",
       "(Std.Err)                        0.009499  0.047431  0.160386  0.020755\n",
       "Estimators with Two-step matrix  0.420708  0.922551  9.930859  0.087582\n",
       "(Std.Err)                        0.000017  0.001978  0.002971  0.000698"
      ]
     },
     "execution_count": 37,
     "metadata": {},
     "output_type": "execute_result"
    }
   ],
   "source": [
    "import pandas as pd\n",
    "\n",
    "results = np.array([results1.x, std1, results2.x, std2])\n",
    "\n",
    "pd.DataFrame(data = results,\n",
    "             index = ['Estimators with Identity matrix',\n",
    "                      '(Std.Err)',\n",
    "                      'Estimators with Two-step matrix', \n",
    "                      '(Std.Err)'],\n",
    "             columns = [r'$\\alpha$',r'$\\rho$',r'$\\mu$',r'$\\sigma$'])"
   ]
  },
  {
   "cell_type": "code",
   "execution_count": null,
   "metadata": {},
   "outputs": [],
   "source": []
  }
 ],
 "metadata": {
  "kernelspec": {
   "display_name": "Python 3",
   "language": "python",
   "name": "python3"
  },
  "language_info": {
   "codemirror_mode": {
    "name": "ipython",
    "version": 3
   },
   "file_extension": ".py",
   "mimetype": "text/x-python",
   "name": "python",
   "nbconvert_exporter": "python",
   "pygments_lexer": "ipython3",
   "version": "3.7.1"
  },
  "toc": {
   "base_numbering": 1,
   "nav_menu": {},
   "number_sections": false,
   "sideBar": true,
   "skip_h1_title": false,
   "title_cell": "Table of Contents",
   "title_sidebar": "Contents",
   "toc_cell": false,
   "toc_position": {},
   "toc_section_display": true,
   "toc_window_display": true
  }
 },
 "nbformat": 4,
 "nbformat_minor": 2
}
